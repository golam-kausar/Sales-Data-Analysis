{
 "cells": [
  {
   "cell_type": "code",
   "execution_count": 1,
   "id": "f118d90d",
   "metadata": {},
   "outputs": [],
   "source": [
    "import pandas as pd\n",
    "import numpy as np\n",
    "import seaborn as sns\n",
    "import matplotlib.pyplot as plt\n",
    "%matplotlib inline"
   ]
  },
  {
   "cell_type": "code",
   "execution_count": 2,
   "id": "7a78e7e3",
   "metadata": {},
   "outputs": [],
   "source": [
    "Sales =pd.read_csv('sales_data.csv')"
   ]
  },
  {
   "cell_type": "code",
   "execution_count": 25,
   "id": "4669831e",
   "metadata": {},
   "outputs": [
    {
     "data": {
      "text/html": [
       "<div>\n",
       "<style scoped>\n",
       "    .dataframe tbody tr th:only-of-type {\n",
       "        vertical-align: middle;\n",
       "    }\n",
       "\n",
       "    .dataframe tbody tr th {\n",
       "        vertical-align: top;\n",
       "    }\n",
       "\n",
       "    .dataframe thead th {\n",
       "        text-align: right;\n",
       "    }\n",
       "</style>\n",
       "<table border=\"1\" class=\"dataframe\">\n",
       "  <thead>\n",
       "    <tr style=\"text-align: right;\">\n",
       "      <th></th>\n",
       "      <th>date</th>\n",
       "      <th>product</th>\n",
       "      <th>category</th>\n",
       "      <th>price</th>\n",
       "      <th>quantity</th>\n",
       "      <th>revenue</th>\n",
       "    </tr>\n",
       "  </thead>\n",
       "  <tbody>\n",
       "    <tr>\n",
       "      <th>0</th>\n",
       "      <td>2022-01-01</td>\n",
       "      <td>Smartphone</td>\n",
       "      <td>Electronics</td>\n",
       "      <td>600.0</td>\n",
       "      <td>10.0</td>\n",
       "      <td>6000.0</td>\n",
       "    </tr>\n",
       "    <tr>\n",
       "      <th>1</th>\n",
       "      <td>2022-01-01</td>\n",
       "      <td>Laptop</td>\n",
       "      <td>Electronics</td>\n",
       "      <td>1200.0</td>\n",
       "      <td>5.0</td>\n",
       "      <td>6000.0</td>\n",
       "    </tr>\n",
       "    <tr>\n",
       "      <th>2</th>\n",
       "      <td>2022-01-02</td>\n",
       "      <td>T-Shirt</td>\n",
       "      <td>Clothing</td>\n",
       "      <td>20.0</td>\n",
       "      <td>50.0</td>\n",
       "      <td>1000.0</td>\n",
       "    </tr>\n",
       "    <tr>\n",
       "      <th>3</th>\n",
       "      <td>2022-01-03</td>\n",
       "      <td>Headphones</td>\n",
       "      <td>Electronics</td>\n",
       "      <td>100.0</td>\n",
       "      <td>20.0</td>\n",
       "      <td>2000.0</td>\n",
       "    </tr>\n",
       "    <tr>\n",
       "      <th>4</th>\n",
       "      <td>2022-01-04</td>\n",
       "      <td>T-Shirt</td>\n",
       "      <td>Clothing</td>\n",
       "      <td>20.0</td>\n",
       "      <td>25.0</td>\n",
       "      <td>500.0</td>\n",
       "    </tr>\n",
       "    <tr>\n",
       "      <th>...</th>\n",
       "      <td>...</td>\n",
       "      <td>...</td>\n",
       "      <td>...</td>\n",
       "      <td>...</td>\n",
       "      <td>...</td>\n",
       "      <td>...</td>\n",
       "    </tr>\n",
       "    <tr>\n",
       "      <th>95</th>\n",
       "      <td>2022-04-04</td>\n",
       "      <td>Coat</td>\n",
       "      <td>Clothing</td>\n",
       "      <td>100.0</td>\n",
       "      <td>15.0</td>\n",
       "      <td>1500.0</td>\n",
       "    </tr>\n",
       "    <tr>\n",
       "      <th>96</th>\n",
       "      <td>2022-04-05</td>\n",
       "      <td>Smartwatch</td>\n",
       "      <td>Accessories</td>\n",
       "      <td>200.0</td>\n",
       "      <td>10.0</td>\n",
       "      <td>NaN</td>\n",
       "    </tr>\n",
       "    <tr>\n",
       "      <th>97</th>\n",
       "      <td>2022-04-06</td>\n",
       "      <td>Smartphone</td>\n",
       "      <td>Electronics</td>\n",
       "      <td>600.0</td>\n",
       "      <td>7.0</td>\n",
       "      <td>4200.0</td>\n",
       "    </tr>\n",
       "    <tr>\n",
       "      <th>98</th>\n",
       "      <td>2022-04-07</td>\n",
       "      <td>Backpack</td>\n",
       "      <td>Bags</td>\n",
       "      <td>50.0</td>\n",
       "      <td>18.0</td>\n",
       "      <td>900.0</td>\n",
       "    </tr>\n",
       "    <tr>\n",
       "      <th>99</th>\n",
       "      <td>2022-04-08</td>\n",
       "      <td>T-Shirt</td>\n",
       "      <td>Clothing</td>\n",
       "      <td>20.0</td>\n",
       "      <td>35.0</td>\n",
       "      <td>700.0</td>\n",
       "    </tr>\n",
       "  </tbody>\n",
       "</table>\n",
       "<p>100 rows × 6 columns</p>\n",
       "</div>"
      ],
      "text/plain": [
       "          date     product     category   price  quantity  revenue\n",
       "0   2022-01-01  Smartphone  Electronics   600.0      10.0   6000.0\n",
       "1   2022-01-01      Laptop  Electronics  1200.0       5.0   6000.0\n",
       "2   2022-01-02     T-Shirt     Clothing    20.0      50.0   1000.0\n",
       "3   2022-01-03  Headphones  Electronics   100.0      20.0   2000.0\n",
       "4   2022-01-04     T-Shirt     Clothing    20.0      25.0    500.0\n",
       "..         ...         ...          ...     ...       ...      ...\n",
       "95  2022-04-04        Coat     Clothing   100.0      15.0   1500.0\n",
       "96  2022-04-05  Smartwatch  Accessories   200.0      10.0      NaN\n",
       "97  2022-04-06  Smartphone  Electronics   600.0       7.0   4200.0\n",
       "98  2022-04-07    Backpack         Bags    50.0      18.0    900.0\n",
       "99  2022-04-08     T-Shirt     Clothing    20.0      35.0    700.0\n",
       "\n",
       "[100 rows x 6 columns]"
      ]
     },
     "execution_count": 25,
     "metadata": {},
     "output_type": "execute_result"
    }
   ],
   "source": [
    "Sales.head(100)"
   ]
  },
  {
   "cell_type": "code",
   "execution_count": 4,
   "id": "e812f3ec",
   "metadata": {},
   "outputs": [
    {
     "data": {
      "text/plain": [
       "date        0\n",
       "product     0\n",
       "category    0\n",
       "price       2\n",
       "quantity    1\n",
       "revenue     1\n",
       "dtype: int64"
      ]
     },
     "execution_count": 4,
     "metadata": {},
     "output_type": "execute_result"
    }
   ],
   "source": [
    "Sales.isnull().sum()"
   ]
  },
  {
   "cell_type": "code",
   "execution_count": 8,
   "id": "705cbdab",
   "metadata": {},
   "outputs": [],
   "source": [
    "SLS_CN = Sales.dropna()"
   ]
  },
  {
   "cell_type": "code",
   "execution_count": 10,
   "id": "9a897275",
   "metadata": {},
   "outputs": [
    {
     "data": {
      "text/html": [
       "<div>\n",
       "<style scoped>\n",
       "    .dataframe tbody tr th:only-of-type {\n",
       "        vertical-align: middle;\n",
       "    }\n",
       "\n",
       "    .dataframe tbody tr th {\n",
       "        vertical-align: top;\n",
       "    }\n",
       "\n",
       "    .dataframe thead th {\n",
       "        text-align: right;\n",
       "    }\n",
       "</style>\n",
       "<table border=\"1\" class=\"dataframe\">\n",
       "  <thead>\n",
       "    <tr style=\"text-align: right;\">\n",
       "      <th></th>\n",
       "      <th>date</th>\n",
       "      <th>product</th>\n",
       "      <th>category</th>\n",
       "      <th>price</th>\n",
       "      <th>quantity</th>\n",
       "      <th>revenue</th>\n",
       "    </tr>\n",
       "  </thead>\n",
       "  <tbody>\n",
       "    <tr>\n",
       "      <th>0</th>\n",
       "      <td>2022-01-01</td>\n",
       "      <td>Smartphone</td>\n",
       "      <td>Electronics</td>\n",
       "      <td>600.0</td>\n",
       "      <td>10.0</td>\n",
       "      <td>6000.0</td>\n",
       "    </tr>\n",
       "    <tr>\n",
       "      <th>1</th>\n",
       "      <td>2022-01-01</td>\n",
       "      <td>Laptop</td>\n",
       "      <td>Electronics</td>\n",
       "      <td>1200.0</td>\n",
       "      <td>5.0</td>\n",
       "      <td>6000.0</td>\n",
       "    </tr>\n",
       "    <tr>\n",
       "      <th>2</th>\n",
       "      <td>2022-01-02</td>\n",
       "      <td>T-Shirt</td>\n",
       "      <td>Clothing</td>\n",
       "      <td>20.0</td>\n",
       "      <td>50.0</td>\n",
       "      <td>1000.0</td>\n",
       "    </tr>\n",
       "    <tr>\n",
       "      <th>3</th>\n",
       "      <td>2022-01-03</td>\n",
       "      <td>Headphones</td>\n",
       "      <td>Electronics</td>\n",
       "      <td>100.0</td>\n",
       "      <td>20.0</td>\n",
       "      <td>2000.0</td>\n",
       "    </tr>\n",
       "    <tr>\n",
       "      <th>4</th>\n",
       "      <td>2022-01-04</td>\n",
       "      <td>T-Shirt</td>\n",
       "      <td>Clothing</td>\n",
       "      <td>20.0</td>\n",
       "      <td>25.0</td>\n",
       "      <td>500.0</td>\n",
       "    </tr>\n",
       "  </tbody>\n",
       "</table>\n",
       "</div>"
      ],
      "text/plain": [
       "         date     product     category   price  quantity  revenue\n",
       "0  2022-01-01  Smartphone  Electronics   600.0      10.0   6000.0\n",
       "1  2022-01-01      Laptop  Electronics  1200.0       5.0   6000.0\n",
       "2  2022-01-02     T-Shirt     Clothing    20.0      50.0   1000.0\n",
       "3  2022-01-03  Headphones  Electronics   100.0      20.0   2000.0\n",
       "4  2022-01-04     T-Shirt     Clothing    20.0      25.0    500.0"
      ]
     },
     "execution_count": 10,
     "metadata": {},
     "output_type": "execute_result"
    }
   ],
   "source": [
    "SLS_CN.head()"
   ]
  },
  {
   "cell_type": "code",
   "execution_count": 12,
   "id": "2373a0b6",
   "metadata": {},
   "outputs": [
    {
     "data": {
      "text/plain": [
       "date        0\n",
       "product     0\n",
       "category    0\n",
       "price       0\n",
       "quantity    0\n",
       "revenue     0\n",
       "dtype: int64"
      ]
     },
     "execution_count": 12,
     "metadata": {},
     "output_type": "execute_result"
    }
   ],
   "source": [
    "SLS_CN.isnull().sum()"
   ]
  },
  {
   "cell_type": "code",
   "execution_count": 14,
   "id": "c102e0fc",
   "metadata": {},
   "outputs": [
    {
     "data": {
      "text/plain": [
       "date         object\n",
       "product      object\n",
       "category     object\n",
       "price       float64\n",
       "quantity    float64\n",
       "revenue     float64\n",
       "dtype: object"
      ]
     },
     "execution_count": 14,
     "metadata": {},
     "output_type": "execute_result"
    }
   ],
   "source": [
    "SLS_CN.dtypes"
   ]
  },
  {
   "cell_type": "code",
   "execution_count": 15,
   "id": "5d7088d9",
   "metadata": {},
   "outputs": [
    {
     "name": "stderr",
     "output_type": "stream",
     "text": [
      "C:\\Users\\Golam Kausar\\AppData\\Local\\Temp\\ipykernel_11356\\2075161220.py:1: SettingWithCopyWarning: \n",
      "A value is trying to be set on a copy of a slice from a DataFrame.\n",
      "Try using .loc[row_indexer,col_indexer] = value instead\n",
      "\n",
      "See the caveats in the documentation: https://pandas.pydata.org/pandas-docs/stable/user_guide/indexing.html#returning-a-view-versus-a-copy\n",
      "  SLS_CN['date'] = pd.to_datetime(SLS_CN['date'])\n"
     ]
    }
   ],
   "source": [
    "SLS_CN['date'] = pd.to_datetime(SLS_CN['date'])"
   ]
  },
  {
   "cell_type": "code",
   "execution_count": 16,
   "id": "c5c19a7d",
   "metadata": {},
   "outputs": [
    {
     "data": {
      "text/plain": [
       "date        datetime64[ns]\n",
       "product             object\n",
       "category            object\n",
       "price              float64\n",
       "quantity           float64\n",
       "revenue            float64\n",
       "dtype: object"
      ]
     },
     "execution_count": 16,
     "metadata": {},
     "output_type": "execute_result"
    }
   ],
   "source": [
    "SLS_CN.dtypes"
   ]
  },
  {
   "cell_type": "code",
   "execution_count": 17,
   "id": "cef049ec",
   "metadata": {},
   "outputs": [
    {
     "data": {
      "text/plain": [
       "1"
      ]
     },
     "execution_count": 17,
     "metadata": {},
     "output_type": "execute_result"
    }
   ],
   "source": [
    "SLS_CN.duplicated().sum()"
   ]
  },
  {
   "cell_type": "code",
   "execution_count": 18,
   "id": "0ad43db0",
   "metadata": {},
   "outputs": [],
   "source": [
    "SLS_CN_1 = SLS_CN.drop_duplicates()"
   ]
  },
  {
   "cell_type": "code",
   "execution_count": 19,
   "id": "1a5ad5fa",
   "metadata": {},
   "outputs": [
    {
     "data": {
      "image/png": "[encoded data removed]",
      "text/plain": [
       "<Figure size 1500x500 with 3 Axes>"
      ]
     },
     "metadata": {},
     "output_type": "display_data"
    }
   ],
   "source": [
    "# Set up the figure and axes\n",
    "fig, axes = plt.subplots(nrows=1, ncols=3, figsize=(15, 5))\n",
    "\n",
    "# Create box plots for price, quantity, and revenue columns\n",
    "sns.boxplot(x='price', data=SLS_CN_1, ax=axes[0])\n",
    "axes[0].set_title('Price')\n",
    "\n",
    "sns.boxplot(x='quantity', data=SLS_CN_1, ax=axes[1])\n",
    "axes[1].set_title('Quantity')\n",
    "\n",
    "sns.boxplot(x='revenue', data=SLS_CN_1, ax=axes[2])\n",
    "axes[2].set_title('Revenue')\n",
    "\n",
    "# Display the plots\n",
    "plt.tight_layout()\n",
    "plt.show()"
   ]
  },
  {
   "cell_type": "code",
   "execution_count": 23,
   "id": "60be10e9",
   "metadata": {},
   "outputs": [
    {
     "data": {
      "image/png": "[encoded data removed]",
      "text/plain": [
       "<Figure size 1500x500 with 3 Axes>"
      ]
     },
     "metadata": {},
     "output_type": "display_data"
    }
   ],
   "source": [
    "# Set up the figure and axes\n",
    "fig, axes = plt.subplots(nrows=1, ncols=3, figsize=(15, 5))\n",
    "\n",
    "# Create histograms for price, quantity, and revenue columns\n",
    "SLS_CN_1['price'].plot(kind='hist', bins=20, ax=axes[0])\n",
    "axes[0].set_title('Price')\n",
    "axes[0].set_xlabel('Price')\n",
    "\n",
    "SLS_CN_1['quantity'].plot(kind='hist', bins=20, ax=axes[1])\n",
    "axes[1].set_title('Quantity')\n",
    "axes[1].set_xlabel('Quantity')\n",
    "\n",
    "SLS_CN_1['revenue'].plot(kind='hist', bins=20, ax=axes[2])\n",
    "axes[2].set_title('Revenue')\n",
    "axes[2].set_xlabel('Revenue')\n",
    "\n",
    "# Display the plots\n",
    "plt.tight_layout()\n",
    "plt.show()"
   ]
  },
  {
   "cell_type": "code",
   "execution_count": 24,
   "id": "35be906f",
   "metadata": {},
   "outputs": [
    {
     "data": {
      "text/plain": [
       "array(['Electronics', 'Clothing', 'Accessories', 'Bags', 'Shoes',\n",
       "       'Clohting', 'Bgas', 'Shoeses'], dtype=object)"
      ]
     },
     "execution_count": 24,
     "metadata": {},
     "output_type": "execute_result"
    }
   ],
   "source": [
    "SLS_CN_1['category'].unique()"
   ]
  },
  {
   "cell_type": "code",
   "execution_count": 26,
   "id": "a58705a2",
   "metadata": {},
   "outputs": [
    {
     "name": "stderr",
     "output_type": "stream",
     "text": [
      "C:\\Users\\Golam Kausar\\AppData\\Local\\Temp\\ipykernel_11356\\3352964784.py:6: SettingWithCopyWarning: \n",
      "A value is trying to be set on a copy of a slice from a DataFrame.\n",
      "Try using .loc[row_indexer,col_indexer] = value instead\n",
      "\n",
      "See the caveats in the documentation: https://pandas.pydata.org/pandas-docs/stable/user_guide/indexing.html#returning-a-view-versus-a-copy\n",
      "  SLS_CN_1['category'] = SLS_CN_1['category'].replace(category_mapping)\n"
     ]
    }
   ],
   "source": [
    "category_mapping = {\n",
    "    'Clohting': 'Clothing',\n",
    "    'Bgas': 'Bags',\n",
    "    'Shoeses': 'Shoes'\n",
    "}\n",
    "SLS_CN_1['category'] = SLS_CN_1['category'].replace(category_mapping)"
   ]
  },
  {
   "cell_type": "code",
   "execution_count": 27,
   "id": "e0f8e82c",
   "metadata": {},
   "outputs": [
    {
     "data": {
      "text/plain": [
       "array(['Electronics', 'Clothing', 'Accessories', 'Bags', 'Shoes'],\n",
       "      dtype=object)"
      ]
     },
     "execution_count": 27,
     "metadata": {},
     "output_type": "execute_result"
    }
   ],
   "source": [
    "SLS_CN_1['category'].unique()"
   ]
  },
  {
   "cell_type": "code",
   "execution_count": 28,
   "id": "7430833f",
   "metadata": {},
   "outputs": [
    {
     "data": {
      "text/html": [
       "<div>\n",
       "<style scoped>\n",
       "    .dataframe tbody tr th:only-of-type {\n",
       "        vertical-align: middle;\n",
       "    }\n",
       "\n",
       "    .dataframe tbody tr th {\n",
       "        vertical-align: top;\n",
       "    }\n",
       "\n",
       "    .dataframe thead th {\n",
       "        text-align: right;\n",
       "    }\n",
       "</style>\n",
       "<table border=\"1\" class=\"dataframe\">\n",
       "  <thead>\n",
       "    <tr style=\"text-align: right;\">\n",
       "      <th></th>\n",
       "      <th>date</th>\n",
       "      <th>product</th>\n",
       "      <th>category</th>\n",
       "      <th>price</th>\n",
       "      <th>quantity</th>\n",
       "      <th>revenue</th>\n",
       "    </tr>\n",
       "  </thead>\n",
       "  <tbody>\n",
       "    <tr>\n",
       "      <th>0</th>\n",
       "      <td>2022-01-01</td>\n",
       "      <td>Smartphone</td>\n",
       "      <td>Electronics</td>\n",
       "      <td>600.0</td>\n",
       "      <td>10.0</td>\n",
       "      <td>6000.0</td>\n",
       "    </tr>\n",
       "    <tr>\n",
       "      <th>1</th>\n",
       "      <td>2022-01-01</td>\n",
       "      <td>Laptop</td>\n",
       "      <td>Electronics</td>\n",
       "      <td>1200.0</td>\n",
       "      <td>5.0</td>\n",
       "      <td>6000.0</td>\n",
       "    </tr>\n",
       "    <tr>\n",
       "      <th>2</th>\n",
       "      <td>2022-01-02</td>\n",
       "      <td>T-Shirt</td>\n",
       "      <td>Clothing</td>\n",
       "      <td>20.0</td>\n",
       "      <td>50.0</td>\n",
       "      <td>1000.0</td>\n",
       "    </tr>\n",
       "    <tr>\n",
       "      <th>3</th>\n",
       "      <td>2022-01-03</td>\n",
       "      <td>Headphones</td>\n",
       "      <td>Electronics</td>\n",
       "      <td>100.0</td>\n",
       "      <td>20.0</td>\n",
       "      <td>2000.0</td>\n",
       "    </tr>\n",
       "    <tr>\n",
       "      <th>4</th>\n",
       "      <td>2022-01-04</td>\n",
       "      <td>T-Shirt</td>\n",
       "      <td>Clothing</td>\n",
       "      <td>20.0</td>\n",
       "      <td>25.0</td>\n",
       "      <td>500.0</td>\n",
       "    </tr>\n",
       "  </tbody>\n",
       "</table>\n",
       "</div>"
      ],
      "text/plain": [
       "        date     product     category   price  quantity  revenue\n",
       "0 2022-01-01  Smartphone  Electronics   600.0      10.0   6000.0\n",
       "1 2022-01-01      Laptop  Electronics  1200.0       5.0   6000.0\n",
       "2 2022-01-02     T-Shirt     Clothing    20.0      50.0   1000.0\n",
       "3 2022-01-03  Headphones  Electronics   100.0      20.0   2000.0\n",
       "4 2022-01-04     T-Shirt     Clothing    20.0      25.0    500.0"
      ]
     },
     "execution_count": 28,
     "metadata": {},
     "output_type": "execute_result"
    }
   ],
   "source": [
    "SLS_CN_1.head()"
   ]
  },
  {
   "cell_type": "code",
   "execution_count": 31,
   "id": "33e2f4d1",
   "metadata": {},
   "outputs": [
    {
     "data": {
      "text/plain": [
       "747230.0"
      ]
     },
     "execution_count": 31,
     "metadata": {},
     "output_type": "execute_result"
    }
   ],
   "source": [
    "total_revenue = SLS_CN_1['revenue'].sum()\n",
    "total_revenue"
   ]
  },
  {
   "cell_type": "markdown",
   "id": "60c1a627",
   "metadata": {},
   "source": [
    "Total Revenue = 747230.0"
   ]
  },
  {
   "cell_type": "code",
   "execution_count": 33,
   "id": "6bc10f92",
   "metadata": {},
   "outputs": [
    {
     "data": {
      "text/plain": [
       "product\n",
       "Backpack       20400.0\n",
       "Coat           33800.0\n",
       "Headphones     18000.0\n",
       "Hoodie         19800.0\n",
       "Jeans          20650.0\n",
       "Laptop          6000.0\n",
       "Smartphone    427800.0\n",
       "Smartwatch     58800.0\n",
       "Sneakers       21600.0\n",
       "Speaker        39680.0\n",
       "T-Shirt        20100.0\n",
       "Tablet         18000.0\n",
       "Wallet         12150.0\n",
       "Watch          30450.0\n",
       "Name: revenue, dtype: float64"
      ]
     },
     "execution_count": 33,
     "metadata": {},
     "output_type": "execute_result"
    }
   ],
   "source": [
    "# Group by product\n",
    "product_revenue = SLS_CN_1.groupby('product')['revenue'].sum()\n",
    "product_revenue"
   ]
  },
  {
   "cell_type": "code",
   "execution_count": 36,
   "id": "4bc26b44",
   "metadata": {},
   "outputs": [
    {
     "data": {
      "text/plain": [
       "'Smartphone'"
      ]
     },
     "execution_count": 36,
     "metadata": {},
     "output_type": "execute_result"
    }
   ],
   "source": [
    "highest_revenue_product = product_revenue.idxmax()\n",
    "highest_revenue_product"
   ]
  },
  {
   "cell_type": "code",
   "execution_count": 37,
   "id": "486c160d",
   "metadata": {},
   "outputs": [
    {
     "data": {
      "text/plain": [
       "427800.0"
      ]
     },
     "execution_count": 37,
     "metadata": {},
     "output_type": "execute_result"
    }
   ],
   "source": [
    "highest_revenue = product_revenue.max()\n",
    "highest_revenue"
   ]
  },
  {
   "cell_type": "code",
   "execution_count": 68,
   "id": "9f3f9257",
   "metadata": {},
   "outputs": [
    {
     "data": {
      "image/png": "[encoded data removed]",
      "text/plain": [
       "<Figure size 800x600 with 1 Axes>"
      ]
     },
     "metadata": {},
     "output_type": "display_data"
    }
   ],
   "source": [
    "plt.figure(figsize=(8, 6))\n",
    "product_revenue.plot(kind='bar', color='salmon')\n",
    "plt.xlabel('Product')\n",
    "plt.ylabel('Total Revenue')\n",
    "plt.title('Total Revenue Generated by Each Product')\n",
    "plt.xticks(rotation=45)  # Rotate x-axis labels for better readability\n",
    "plt.show()"
   ]
  },
  {
   "cell_type": "markdown",
   "id": "cb7ac66a",
   "metadata": {},
   "source": [
    "Smartphone is the highest revenue product that produces 427800.0"
   ]
  },
  {
   "cell_type": "code",
   "execution_count": 39,
   "id": "8c615fbe",
   "metadata": {},
   "outputs": [
    {
     "data": {
      "text/plain": [
       "210.65934065934067"
      ]
     },
     "execution_count": 39,
     "metadata": {},
     "output_type": "execute_result"
    }
   ],
   "source": [
    "average_price = SLS_CN_1['price'].mean()\n",
    "average_price"
   ]
  },
  {
   "cell_type": "markdown",
   "id": "26118c4b",
   "metadata": {},
   "source": [
    "Average price of a product sold by the company: 210.65934065934067"
   ]
  },
  {
   "cell_type": "code",
   "execution_count": 40,
   "id": "6d6900b7",
   "metadata": {},
   "outputs": [
    {
     "data": {
      "text/plain": [
       "5270.0"
      ]
     },
     "execution_count": 40,
     "metadata": {},
     "output_type": "execute_result"
    }
   ],
   "source": [
    "total_quantity = SLS_CN_1['quantity'].sum()\n",
    "total_quantity"
   ]
  },
  {
   "cell_type": "markdown",
   "id": "82ee6685",
   "metadata": {},
   "source": [
    "Total quantity of products sold by the company: 5270.0"
   ]
  },
  {
   "cell_type": "code",
   "execution_count": 43,
   "id": "408f330e",
   "metadata": {},
   "outputs": [
    {
     "data": {
      "text/plain": [
       "category\n",
       "Accessories    101400.0\n",
       "Bags            20400.0\n",
       "Clothing        94350.0\n",
       "Electronics    509480.0\n",
       "Shoes           21600.0\n",
       "Name: revenue, dtype: float64"
      ]
     },
     "execution_count": 43,
     "metadata": {},
     "output_type": "execute_result"
    }
   ],
   "source": [
    "category_revenue = SLS_CN_1.groupby('category')['revenue'].sum()\n",
    "category_revenue"
   ]
  },
  {
   "cell_type": "code",
   "execution_count": 45,
   "id": "b3a61e16",
   "metadata": {},
   "outputs": [
    {
     "data": {
      "text/plain": [
       "'Electronics'"
      ]
     },
     "execution_count": 45,
     "metadata": {},
     "output_type": "execute_result"
    }
   ],
   "source": [
    "highest_revenue_category = category_revenue.idxmax()\n",
    "highest_revenue_category"
   ]
  },
  {
   "cell_type": "code",
   "execution_count": 46,
   "id": "59451510",
   "metadata": {},
   "outputs": [
    {
     "data": {
      "text/plain": [
       "509480.0"
      ]
     },
     "execution_count": 46,
     "metadata": {},
     "output_type": "execute_result"
    }
   ],
   "source": [
    "highest_revenue = category_revenue.max()\n",
    "highest_revenue"
   ]
  },
  {
   "cell_type": "code",
   "execution_count": 63,
   "id": "9ca42e8b",
   "metadata": {},
   "outputs": [
    {
     "data": {
      "image/png": "[encoded data removed]",
      "text/plain": [
       "<Figure size 800x600 with 1 Axes>"
      ]
     },
     "metadata": {},
     "output_type": "display_data"
    }
   ],
   "source": [
    "plt.figure(figsize=(8, 6))\n",
    "category_revenue.plot(kind='bar', color='green')\n",
    "plt.xlabel('Category')\n",
    "plt.ylabel('Total Revenue')\n",
    "plt.title('Total Revenue Generated by Each Category')\n",
    "plt.xticks(rotation=45)  # Rotate x-axis labels for better readability\n",
    "plt.show()"
   ]
  },
  {
   "cell_type": "markdown",
   "id": "d781b368",
   "metadata": {},
   "source": [
    "Category with the highest revenue: Electronics"
   ]
  },
  {
   "cell_type": "markdown",
   "id": "1a4ad05a",
   "metadata": {},
   "source": [
    "Revenue generated by the highest revenue category: 509480.0"
   ]
  },
  {
   "cell_type": "code",
   "execution_count": 49,
   "id": "ff4a3b71",
   "metadata": {},
   "outputs": [
    {
     "data": {
      "text/plain": [
       "747230.0"
      ]
     },
     "execution_count": 49,
     "metadata": {},
     "output_type": "execute_result"
    }
   ],
   "source": [
    "total_revenue = SLS_CN_1['revenue'].sum()\n",
    "total_revenue"
   ]
  },
  {
   "cell_type": "code",
   "execution_count": 50,
   "id": "d6976f72",
   "metadata": {},
   "outputs": [
    {
     "data": {
      "text/plain": [
       "364"
      ]
     },
     "execution_count": 50,
     "metadata": {},
     "output_type": "execute_result"
    }
   ],
   "source": [
    "total_sales = len(SLS_CN_1)\n",
    "total_sales"
   ]
  },
  {
   "cell_type": "code",
   "execution_count": 51,
   "id": "cd5ea167",
   "metadata": {},
   "outputs": [
    {
     "data": {
      "text/plain": [
       "2052.8296703296705"
      ]
     },
     "execution_count": 51,
     "metadata": {},
     "output_type": "execute_result"
    }
   ],
   "source": [
    "average_revenue_per_sale = total_revenue / total_sales\n",
    "average_revenue_per_sale"
   ]
  },
  {
   "cell_type": "markdown",
   "id": "13167745",
   "metadata": {},
   "source": [
    "Average revenue per sale: 2052.8296703296705"
   ]
  },
  {
   "cell_type": "code",
   "execution_count": 52,
   "id": "d1785ee9",
   "metadata": {},
   "outputs": [
    {
     "name": "stderr",
     "output_type": "stream",
     "text": [
      "C:\\Users\\Golam Kausar\\AppData\\Local\\Temp\\ipykernel_11356\\10329031.py:1: SettingWithCopyWarning: \n",
      "A value is trying to be set on a copy of a slice from a DataFrame.\n",
      "Try using .loc[row_indexer,col_indexer] = value instead\n",
      "\n",
      "See the caveats in the documentation: https://pandas.pydata.org/pandas-docs/stable/user_guide/indexing.html#returning-a-view-versus-a-copy\n",
      "  SLS_CN_1['date'] = pd.to_datetime(SLS_CN_1['date'])\n"
     ]
    },
    {
     "data": {
      "text/plain": [
       "0     2022-01-01\n",
       "1     2022-01-01\n",
       "2     2022-01-02\n",
       "3     2022-01-03\n",
       "4     2022-01-04\n",
       "         ...    \n",
       "364   2022-12-27\n",
       "365   2022-12-28\n",
       "366   2022-12-29\n",
       "367   2022-12-30\n",
       "368   2022-12-31\n",
       "Name: date, Length: 364, dtype: datetime64[ns]"
      ]
     },
     "execution_count": 52,
     "metadata": {},
     "output_type": "execute_result"
    }
   ],
   "source": [
    "SLS_CN_1['date'] = pd.to_datetime(SLS_CN_1['date'])\n",
    "SLS_CN_1['date']"
   ]
  },
  {
   "cell_type": "code",
   "execution_count": 53,
   "id": "5139e269",
   "metadata": {},
   "outputs": [
    {
     "name": "stderr",
     "output_type": "stream",
     "text": [
      "C:\\Users\\Golam Kausar\\AppData\\Local\\Temp\\ipykernel_11356\\1538928912.py:1: SettingWithCopyWarning: \n",
      "A value is trying to be set on a copy of a slice from a DataFrame.\n",
      "Try using .loc[row_indexer,col_indexer] = value instead\n",
      "\n",
      "See the caveats in the documentation: https://pandas.pydata.org/pandas-docs/stable/user_guide/indexing.html#returning-a-view-versus-a-copy\n",
      "  SLS_CN_1['quarter'] = SLS_CN_1['date'].dt.quarter\n"
     ]
    },
    {
     "data": {
      "text/plain": [
       "0      1\n",
       "1      1\n",
       "2      1\n",
       "3      1\n",
       "4      1\n",
       "      ..\n",
       "364    4\n",
       "365    4\n",
       "366    4\n",
       "367    4\n",
       "368    4\n",
       "Name: quarter, Length: 364, dtype: int64"
      ]
     },
     "execution_count": 53,
     "metadata": {},
     "output_type": "execute_result"
    }
   ],
   "source": [
    "SLS_CN_1['quarter'] = SLS_CN_1['date'].dt.quarter\n",
    "SLS_CN_1['quarter'] "
   ]
  },
  {
   "cell_type": "code",
   "execution_count": 54,
   "id": "7db4081f",
   "metadata": {},
   "outputs": [
    {
     "data": {
      "text/plain": [
       "quarter\n",
       "1    182100.0\n",
       "2    177370.0\n",
       "3    195430.0\n",
       "4    192330.0\n",
       "Name: revenue, dtype: float64"
      ]
     },
     "execution_count": 54,
     "metadata": {},
     "output_type": "execute_result"
    }
   ],
   "source": [
    "quarterly_revenue = SLS_CN_1.groupby('quarter')['revenue'].sum()\n",
    "quarterly_revenue"
   ]
  },
  {
   "cell_type": "code",
   "execution_count": 58,
   "id": "75eeeec1",
   "metadata": {},
   "outputs": [
    {
     "data": {
      "image/png": "[encoded data removed]",
      "text/plain": [
       "<Figure size 640x480 with 1 Axes>"
      ]
     },
     "metadata": {},
     "output_type": "display_data"
    }
   ],
   "source": [
    "plt.bar(quarterly_revenue.index, quarterly_revenue.values)\n",
    "plt.xlabel('Quarter')\n",
    "plt.ylabel('Total Revenue')\n",
    "plt.title('Total Revenue Generated in Each Quarter')\n",
    "plt.xticks(quarterly_revenue.index, labels=['Q1', 'Q2', 'Q3', 'Q4'])\n",
    "plt.show()"
   ]
  },
  {
   "cell_type": "markdown",
   "id": "78bde6c2",
   "metadata": {},
   "source": [
    "Quarter\n",
    "1st: 182100.0;\n",
    "2nd: 177370.0;\n",
    "3rd: 195430.0;\n",
    "4th: 192330.0"
   ]
  },
  {
   "cell_type": "code",
   "execution_count": null,
   "id": "62d4d2e9",
   "metadata": {},
   "outputs": [],
   "source": []
  }
 ],
 "metadata": {
  "kernelspec": {
   "display_name": "Python 3 (ipykernel)",
   "language": "python",
   "name": "python3"
  },
  "language_info": {
   "codemirror_mode": {
    "name": "ipython",
    "version": 3
   },
   "file_extension": ".py",
   "mimetype": "text/x-python",
   "name": "python",
   "nbconvert_exporter": "python",
   "pygments_lexer": "ipython3",
   "version": "3.10.9"
  }
 },
 "nbformat": 4,
 "nbformat_minor": 5
}
